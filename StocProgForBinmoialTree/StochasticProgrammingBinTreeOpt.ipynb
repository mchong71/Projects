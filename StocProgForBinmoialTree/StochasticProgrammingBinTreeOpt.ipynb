{
 "metadata": {
  "name": ""
 },
 "nbformat": 3,
 "nbformat_minor": 0,
 "worksheets": [
  {
   "cells": [
    {
     "cell_type": "code",
     "collapsed": false,
     "input": [
      "import numpy as np\n",
      "import binomial_tree as bt\n",
      "from Option import Option"
     ],
     "language": "python",
     "metadata": {},
     "outputs": [],
     "prompt_number": 1
    },
    {
     "cell_type": "code",
     "collapsed": false,
     "input": [
      "## CONSTRAINTS\n",
      "def cons\n",
      "(x, cs, target, a, b):\n",
      "    funs = [lambda x: a[0] * x[0] + a[1] * x[1] - b] # Ax = b\n",
      "    \n",
      "    i = 2 # reps index of first penalty var in x vec; they come in pairs\n",
      "    for i <=(x.shape[0]-2):\n",
      "        cs = [0.2 0.3]\n",
      "        funs += [lambda x: c[i]*x[0] + c[i+1]*x[1] + x[i] - x[i+1] - target] # cx + s - d = t\n",
      "        i += 2\n",
      "    \n",
      "    return [{'type': 'eq', 'fun': f} for f in funs]   \n",
      "\n",
      "## OBJECTIVE FUNCTION\n",
      "def obj_fun(x, target, pis, p_vals):\n",
      "    \n",
      "    penalties = x[2:]\n",
      "    total_penalty = 0\n",
      "    i = pis.shape(0)\n",
      "    for pi in pis:\n",
      "        total_penalty += pi * (p_vals[0] * penalties[i] - p_vals[1] * penalties[i+1])\n",
      "        i +=2\n",
      "    \n",
      "    return target - total_penalty"
     ],
     "language": "python",
     "metadata": {},
     "outputs": [
      {
       "ename": "SyntaxError",
       "evalue": "invalid syntax (<ipython-input-2-7142a44a163c>, line 2)",
       "output_type": "pyerr",
       "traceback": [
        "\u001b[0;36m  File \u001b[0;32m\"<ipython-input-2-7142a44a163c>\"\u001b[0;36m, line \u001b[0;32m2\u001b[0m\n\u001b[0;31m    def cons\u001b[0m\n\u001b[0m            ^\u001b[0m\n\u001b[0;31mSyntaxError\u001b[0m\u001b[0;31m:\u001b[0m invalid syntax\n"
       ]
      }
     ],
     "prompt_number": 2
    },
    {
     "cell_type": "code",
     "collapsed": false,
     "input": [
      "## OPTIMIZATION EXECUTION\n",
      "\n",
      "num_opts = 2\n",
      "budget = 1000\n",
      "expected_ror = 0.1\n",
      "target = budget * (1 + expected_ror)\n",
      "penalties = np.array([0.1 0.5]) # surp, def\n",
      "\n",
      "scenarios = binary_tree.shape[0]\n",
      "x = np.zeros(num_opts)\n",
      "x += np.zeros(2 * scenarios) # penalty terms * scenarios\n",
      "\n",
      "constraints = cons(x, cs, target, costs, budget)\n",
      "args = (target, budget, binary_tree_probs, penalties)\n",
      "\n",
      "opt = optimize.minimize(obj_fun, x, args=args,\n",
      "                        constraints=constraints,\n",
      "                        method='SLSQP',\n",
      "                        options={'disp': True})\n",
      "opt"
     ],
     "language": "python",
     "metadata": {},
     "outputs": [
      {
       "ename": "SyntaxError",
       "evalue": "invalid syntax (<ipython-input-5-cdf79c342b18>, line 6)",
       "output_type": "pyerr",
       "traceback": [
        "\u001b[0;36m  File \u001b[0;32m\"<ipython-input-5-cdf79c342b18>\"\u001b[0;36m, line \u001b[0;32m6\u001b[0m\n\u001b[0;31m    args = [np.zeros(3) for scenarios]\u001b[0m\n\u001b[0m                                     ^\u001b[0m\n\u001b[0;31mSyntaxError\u001b[0m\u001b[0;31m:\u001b[0m invalid syntax\n"
       ]
      }
     ],
     "prompt_number": 5
    },
    {
     "cell_type": "code",
     "collapsed": false,
     "input": [
      "x = np.zeros(10)"
     ],
     "language": "python",
     "metadata": {},
     "outputs": [],
     "prompt_number": 10
    },
    {
     "cell_type": "code",
     "collapsed": false,
     "input": [
      "(x.shape[0]-2)/2"
     ],
     "language": "python",
     "metadata": {},
     "outputs": [
      {
       "metadata": {},
       "output_type": "pyout",
       "prompt_number": 13,
       "text": [
        "4"
       ]
      }
     ],
     "prompt_number": 13
    },
    {
     "cell_type": "code",
     "collapsed": false,
     "input": [
      "252/12*4"
     ],
     "language": "python",
     "metadata": {},
     "outputs": [
      {
       "metadata": {},
       "output_type": "pyout",
       "prompt_number": 22,
       "text": [
        "84"
       ]
      }
     ],
     "prompt_number": 22
    },
    {
     "cell_type": "code",
     "collapsed": false,
     "input": [
      "#reload(Option.Option)\n",
      "reload(bt)\n",
      "# 4 months to maturity\n",
      "aapl = Option(\"BMO.TO\", 60, 0.03, 84.0/252.0, 4)\n",
      "(aapl.vol, aapl.time/aapl.N)"
     ],
     "language": "python",
     "metadata": {},
     "outputs": [
      {
       "metadata": {},
       "output_type": "pyout",
       "prompt_number": 2,
       "text": [
        "(0.088842281943068521, 0.08333333333333333)"
       ]
      }
     ],
     "prompt_number": 2
    },
    {
     "cell_type": "code",
     "collapsed": false,
     "input": [
      "init_opt, cs, probs, prices = bt.ExpectedReturns(aapl)"
     ],
     "language": "python",
     "metadata": {},
     "outputs": [],
     "prompt_number": 3
    },
    {
     "cell_type": "code",
     "collapsed": false,
     "input": [
      "init_opt"
     ],
     "language": "python",
     "metadata": {},
     "outputs": [
      {
       "metadata": {},
       "output_type": "pyout",
       "prompt_number": 4,
       "text": [
        "[[0.65779950881735272],\n",
        " [1.1354013130324794, 0.18348947861912249],\n",
        " [1.9085875336899463, 0.36789703520540656, 0.0],\n",
        " [3.0890918180874718, 0.73763481989000945, 0.0, 0.0],\n",
        " [4.7146835205812323, 1.4789603488116683, 0, 0, 0]]"
       ]
      }
     ],
     "prompt_number": 4
    },
    {
     "cell_type": "code",
     "collapsed": false,
     "input": [
      "prices"
     ],
     "language": "python",
     "metadata": {},
     "outputs": [
      {
       "metadata": {},
       "output_type": "pyout",
       "prompt_number": 5,
       "text": [
        "[[57.899999999999999],\n",
        " [59.533255317416831, 56.556602674741441],\n",
        " [61.212581842637988, 58.151963159258756, 55.244374889612622],\n",
        " [62.939279161935076,\n",
        "  59.792325906203267,\n",
        "  56.802719778141615,\n",
        "  53.962593448122348],\n",
        " [64.714683520581232,\n",
        "  61.478960348811668,\n",
        "  58.405022785419476,\n",
        "  55.484781577496243,\n",
        "  52.71055193340348]]"
       ]
      }
     ],
     "prompt_number": 5
    },
    {
     "cell_type": "code",
     "collapsed": false,
     "input": [
      "cs"
     ],
     "language": "python",
     "metadata": {},
     "outputs": [
      {
       "metadata": {},
       "output_type": "pyout",
       "prompt_number": 6,
       "text": [
        "[4.0568840117638798,\n",
        " 0.82116083999431555,\n",
        " -0.65779950881735272,\n",
        " -0.65779950881735272,\n",
        " -0.65779950881735272]"
       ]
      }
     ],
     "prompt_number": 6
    },
    {
     "cell_type": "code",
     "collapsed": false,
     "input": [],
     "language": "python",
     "metadata": {},
     "outputs": []
    }
   ],
   "metadata": {}
  }
 ]
}