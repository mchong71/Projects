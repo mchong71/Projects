{
 "metadata": {
  "name": ""
 },
 "nbformat": 3,
 "nbformat_minor": 0,
 "worksheets": [
  {
   "cells": [
    {
     "cell_type": "code",
     "collapsed": false,
     "input": [
      "import numpy as np"
     ],
     "language": "python",
     "metadata": {},
     "outputs": [],
     "prompt_number": 4
    },
    {
     "cell_type": "code",
     "collapsed": false,
     "input": [
      "## CONSTRAINTS\n",
      "def cons(x, cs, target, a, b):\n",
      "    funs = [lambda x: a[0] * x[0] + a[1] * x[1] - b] # Ax = b\n",
      "    \n",
      "    i = 2 # reps index of first penalty var in x vec; they come in pairs\n",
      "    for i <=(x.shape[0]-2):\n",
      "        cs = [0.2 0.3]\n",
      "        funs += [lambda x: c[i]*x[0] + c[i+1]*x[1] + x[i] - x[i+1] - target] # cx + s - d = t\n",
      "        i += 2\n",
      "    \n",
      "    return [{'type': 'eq', 'fun': f} for f in funs]   \n",
      "\n",
      "## OBJECTIVE FUNCTION\n",
      "def obj_fun(x, target, pis, p_vals):\n",
      "    \n",
      "    penalties = x[2:]\n",
      "    total_penalty = 0\n",
      "    i = pis.shape(0)\n",
      "    for pi in pis:\n",
      "        total_penalty += pi * (p_vals[0] * penalties[i] - p_vals[1] * penalties[i+1])\n",
      "        i +=2\n",
      "    \n",
      "    return target - total_penalty"
     ],
     "language": "python",
     "metadata": {},
     "outputs": [],
     "prompt_number": 3
    },
    {
     "cell_type": "code",
     "collapsed": false,
     "input": [
      "## OPTIMIZATION EXECUTION\n",
      "\n",
      "num_opts = 2\n",
      "budget = 1000\n",
      "expected_ror = 0.1\n",
      "target = budget * (1 + expected_ror)\n",
      "penalties = np.array([0.1 0.5]) # surp, def\n",
      "\n",
      "scenarios = binary_tree.shape[0]\n",
      "x = np.zeros(num_opts)\n",
      "x += np.zeros(2 * scenarios) # penalty terms * scenarios\n",
      "\n",
      "constraints = cons(x, cs, target, costs, budget)\n",
      "args = (target, budget, binary_tree_probs, penalties)\n",
      "\n",
      "opt = optimize.minimize(obj_fun, x, args=args,\n",
      "                        constraints=constraints,\n",
      "                        method='SLSQP',\n",
      "                        options={'disp': True})\n",
      "opt"
     ],
     "language": "python",
     "metadata": {},
     "outputs": [
      {
       "ename": "SyntaxError",
       "evalue": "invalid syntax (<ipython-input-5-cdf79c342b18>, line 6)",
       "output_type": "pyerr",
       "traceback": [
        "\u001b[0;36m  File \u001b[0;32m\"<ipython-input-5-cdf79c342b18>\"\u001b[0;36m, line \u001b[0;32m6\u001b[0m\n\u001b[0;31m    args = [np.zeros(3) for scenarios]\u001b[0m\n\u001b[0m                                     ^\u001b[0m\n\u001b[0;31mSyntaxError\u001b[0m\u001b[0;31m:\u001b[0m invalid syntax\n"
       ]
      }
     ],
     "prompt_number": 5
    },
    {
     "cell_type": "code",
     "collapsed": false,
     "input": [
      "x = np.zeros(10)"
     ],
     "language": "python",
     "metadata": {},
     "outputs": [],
     "prompt_number": 10
    },
    {
     "cell_type": "code",
     "collapsed": false,
     "input": [
      "(x.shape[0]-2)/2"
     ],
     "language": "python",
     "metadata": {},
     "outputs": [
      {
       "metadata": {},
       "output_type": "pyout",
       "prompt_number": 13,
       "text": [
        "4"
       ]
      }
     ],
     "prompt_number": 13
    },
    {
     "cell_type": "code",
     "collapsed": false,
     "input": [
      "x[0] = 1\n",
      "x[1] = 1"
     ],
     "language": "python",
     "metadata": {},
     "outputs": [],
     "prompt_number": 14
    },
    {
     "cell_type": "code",
     "collapsed": false,
     "input": [
      "x[2:]"
     ],
     "language": "python",
     "metadata": {},
     "outputs": [
      {
       "metadata": {},
       "output_type": "pyout",
       "prompt_number": 20,
       "text": [
        "array([ 0.,  0.,  0.,  0.,  0.,  0.,  0.,  0.])"
       ]
      }
     ],
     "prompt_number": 20
    },
    {
     "cell_type": "code",
     "collapsed": false,
     "input": [],
     "language": "python",
     "metadata": {},
     "outputs": []
    }
   ],
   "metadata": {}
  }
 ]
}