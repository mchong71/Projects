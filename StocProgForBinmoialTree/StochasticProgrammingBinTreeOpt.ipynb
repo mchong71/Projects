{
 "metadata": {
  "name": "",
  "signature": "sha256:881e629df838f0a15579b4a7d0c5e15da64bc78dc5345c48874b54441c5dc1f4"
 },
 "nbformat": 3,
 "nbformat_minor": 0,
 "worksheets": [
  {
   "cells": [
    {
     "cell_type": "code",
     "collapsed": false,
     "input": [
      "import numpy as np\n",
      "import binomial_tree as bt\n",
      "from Option import Option\n",
      "from itertools import product\n",
      "from scipy import optimize\n",
      "import scipy.stats"
     ],
     "language": "python",
     "metadata": {},
     "outputs": [],
     "prompt_number": 1
    },
    {
     "cell_type": "code",
     "collapsed": false,
     "input": [
      "## CONSTRAINTS\n",
      "#hard code for now\n",
      "def chance_cons(b_cs, p_cs, a, b, beta):\n",
      "    b_mu = np.mean(b_cs)\n",
      "    p_mu = np.mean(p_cs)\n",
      "    covar = np.cov(b_cs, p_cs)\n",
      "\n",
      "    funs = ({'type': 'eq', \n",
      "             'fun': lambda x: a[0] * x[0] + a[1] * x[1] - b},\n",
      "            {'type': 'ineq',\n",
      "             'fun': lambda x: b_mu * x[0] + p_mu * x[1] - beta \n",
      "                 * np.sqrt(np.dot(np.dot(np.array([x[0], x[1]]), covar), np.array([x[0], x[1]])[None].T)) - x[2]},\n",
      "            {'type': 'ineq',\n",
      "             'fun': lambda x: x[0]},\n",
      "            {'type': 'ineq',\n",
      "             'fun': lambda x: x[1]})\n",
      "    \n",
      "    return funs\n",
      "    \n",
      "def cons(cs, target, a, b, num_opts):\n",
      "#     funs = [lambda x: a[0] * x[0] + a[1] * x[1] - b] # Ax = b\n",
      "    \n",
      "#     i = num_opts # reps index of first penalty var in x vec; they come in pairs\n",
      "#     j = 0\n",
      "#     while j < cs.shape[0]:\n",
      "#         print i\n",
      "#         print j\n",
      "#         y = cs[j,0]*x[0] + cs[j,1]*x[1] + x[i] - x[i+1]\n",
      "#         funs += [lambda x: y - target] # cx + s - d = t\n",
      "#         i += 2\n",
      "#         j += 1\n",
      "    funs = ({'type': 'eq', \n",
      "             'fun': lambda x: cs[0,0]*x[0] + cs[0,1]*x[1] + x[2] - x[2+1] - target},\n",
      "            {'type': 'eq', \n",
      "             'fun': lambda x: cs[1,0]*x[0] + cs[1,1]*x[1] + x[4] - x[4+1] - target},\n",
      "            {'type': 'eq', \n",
      "             'fun': lambda x: cs[2,0]*x[0] + cs[2,1]*x[1] + x[6] - x[6+1] - target},\n",
      "            {'type': 'eq', \n",
      "             'fun': lambda x: cs[3,0]*x[0] + cs[3,1]*x[1] + x[8] - x[8+1] - target},\n",
      "            {'type': 'eq', \n",
      "             'fun': lambda x: cs[4,0]*x[0] + cs[4,1]*x[1] + x[10] - x[10+1] - target},\n",
      "            {'type': 'eq', \n",
      "             'fun': lambda x: cs[5,0]*x[0] + cs[5,1]*x[1] + x[12] - x[12+1] - target},\n",
      "            {'type': 'eq', \n",
      "             'fun': lambda x: cs[6,0]*x[0] + cs[6,1]*x[1] + x[14] - x[14+1] - target},\n",
      "            {'type': 'eq', \n",
      "             'fun': lambda x: cs[7,0]*x[0] + cs[7,1]*x[1] + x[16] - x[16+1] - target},\n",
      "            {'type': 'eq', \n",
      "             'fun': lambda x: cs[8,0]*x[0] + cs[8,1]*x[1] + x[18] - x[18+1] - target},\n",
      "            {'type': 'eq', \n",
      "             'fun': lambda x: cs[9,0]*x[0] + cs[9,1]*x[1] + x[20] - x[20+1] - target},\n",
      "            {'type': 'eq', \n",
      "             'fun': lambda x: cs[10,0]*x[0] + cs[10,1]*x[1] + x[22] - x[22+1] - target},\n",
      "            {'type': 'eq', \n",
      "             'fun': lambda x: cs[11,0]*x[0] + cs[11,1]*x[1] + x[24] - x[24+1] - target},\n",
      "            {'type': 'eq', \n",
      "             'fun': lambda x: cs[12,0]*x[0] + cs[12,1]*x[1] + x[26] - x[26+1] - target},\n",
      "            {'type': 'eq', \n",
      "             'fun': lambda x: cs[13,0]*x[0] + cs[13,1]*x[1] + x[28] - x[28+1] - target},\n",
      "            {'type': 'eq', \n",
      "             'fun': lambda x: cs[14,0]*x[0] + cs[14,1]*x[1] + x[30] - x[30+1] - target},\n",
      "            {'type': 'eq', \n",
      "             'fun': lambda x: cs[15,0]*x[0] + cs[15,1]*x[1] + x[32] - x[32+1] - target},\n",
      "            {'type': 'eq', \n",
      "             'fun': lambda x: cs[16,0]*x[0] + cs[16,1]*x[1] + x[34] - x[34+1] - target},\n",
      "            {'type': 'eq', \n",
      "             'fun': lambda x: cs[17,0]*x[0] + cs[17,1]*x[1] + x[36] - x[36+1] - target},\n",
      "            {'type': 'eq', \n",
      "             'fun': lambda x: cs[18,0]*x[0] + cs[18,1]*x[1] + x[38] - x[38+1] - target},\n",
      "            {'type': 'eq', \n",
      "             'fun': lambda x: cs[19,0]*x[0] + cs[19,1]*x[1] + x[40] - x[40+1] - target},\n",
      "            {'type': 'eq', \n",
      "             'fun': lambda x: cs[20,0]*x[0] + cs[20,1]*x[1] + x[42] - x[42+1] - target},\n",
      "            {'type': 'eq', \n",
      "             'fun': lambda x: cs[21,0]*x[0] + cs[21,1]*x[1] + x[44] - x[44+1] - target},\n",
      "            {'type': 'eq', \n",
      "             'fun': lambda x: cs[22,0]*x[0] + cs[22,1]*x[1] + x[46] - x[46+1] - target},\n",
      "            {'type': 'eq', \n",
      "             'fun': lambda x: cs[23,0]*x[0] + cs[23,1]*x[1] + x[48] - x[48+1] - target},\n",
      "            {'type': 'eq', \n",
      "             'fun': lambda x: cs[24,0]*x[0] + cs[24,1]*x[1] + x[50] - x[50+1] - target},\n",
      "            {'type': 'eq', \n",
      "             'fun': lambda x: a[0] * x[0] + a[1] * x[1] - b},\n",
      "            {'type': 'ineq',\n",
      "             'fun': lambda x: x[0]},\n",
      "            {'type': 'ineq',\n",
      "             'fun': lambda x: x[1]},\n",
      "            {'type': 'ineq',\n",
      "             'fun': lambda x: x[2]},\n",
      "            {'type': 'ineq',\n",
      "             'fun': lambda x: x[3]},\n",
      "            {'type': 'ineq',\n",
      "             'fun': lambda x: x[4]},\n",
      "            {'type': 'ineq',\n",
      "             'fun': lambda x: x[5]},\n",
      "            {'type': 'ineq',\n",
      "             'fun': lambda x: x[6]},\n",
      "            {'type': 'ineq',\n",
      "             'fun': lambda x: x[7]},\n",
      "            {'type': 'ineq',\n",
      "             'fun': lambda x: x[8]},\n",
      "            {'type': 'ineq',\n",
      "             'fun': lambda x: x[9]},\n",
      "            {'type': 'ineq',\n",
      "             'fun': lambda x: x[10]},\n",
      "            {'type': 'ineq',\n",
      "             'fun': lambda x: x[11]},\n",
      "            {'type': 'ineq',\n",
      "             'fun': lambda x: x[12]},\n",
      "            {'type': 'ineq',\n",
      "             'fun': lambda x: x[13]},\n",
      "            {'type': 'ineq',\n",
      "             'fun': lambda x: x[14]},\n",
      "            {'type': 'ineq',\n",
      "             'fun': lambda x: x[15]},\n",
      "            {'type': 'ineq',\n",
      "             'fun': lambda x: x[16]},\n",
      "            {'type': 'ineq',\n",
      "             'fun': lambda x: x[17]},\n",
      "            {'type': 'ineq',\n",
      "             'fun': lambda x: x[18]},\n",
      "            {'type': 'ineq',\n",
      "             'fun': lambda x: x[19]},\n",
      "            {'type': 'ineq',\n",
      "             'fun': lambda x: x[20]},\n",
      "            {'type': 'ineq',\n",
      "             'fun': lambda x: x[21]},\n",
      "            {'type': 'ineq',\n",
      "             'fun': lambda x: x[22]},\n",
      "            {'type': 'ineq',\n",
      "             'fun': lambda x: x[23]},\n",
      "            {'type': 'ineq',\n",
      "             'fun': lambda x: x[24]},\n",
      "            {'type': 'ineq',\n",
      "             'fun': lambda x: x[25]},\n",
      "            {'type': 'ineq',\n",
      "             'fun': lambda x: x[26]},\n",
      "            {'type': 'ineq',\n",
      "             'fun': lambda x: x[27]},\n",
      "            {'type': 'ineq',\n",
      "             'fun': lambda x: x[28]},\n",
      "            {'type': 'ineq',\n",
      "             'fun': lambda x: x[29]},\n",
      "            {'type': 'ineq',\n",
      "             'fun': lambda x: x[30]},\n",
      "            {'type': 'ineq',\n",
      "             'fun': lambda x: x[31]},\n",
      "            {'type': 'ineq',\n",
      "             'fun': lambda x: x[32]},\n",
      "            {'type': 'ineq',\n",
      "             'fun': lambda x: x[33]},\n",
      "            {'type': 'ineq',\n",
      "             'fun': lambda x: x[34]},\n",
      "            {'type': 'ineq',\n",
      "             'fun': lambda x: x[35]},\n",
      "            {'type': 'ineq',\n",
      "             'fun': lambda x: x[36]},\n",
      "            {'type': 'ineq',\n",
      "             'fun': lambda x: x[37]},\n",
      "            {'type': 'ineq',\n",
      "             'fun': lambda x: x[39]},\n",
      "            {'type': 'ineq',\n",
      "             'fun': lambda x: x[40]},\n",
      "            {'type': 'ineq',\n",
      "             'fun': lambda x: x[41]},\n",
      "            {'type': 'ineq',\n",
      "             'fun': lambda x: x[42]},\n",
      "            {'type': 'ineq',\n",
      "             'fun': lambda x: x[43]},\n",
      "            {'type': 'ineq',\n",
      "             'fun': lambda x: x[44]},\n",
      "            {'type': 'ineq',\n",
      "             'fun': lambda x: x[45]},\n",
      "            {'type': 'ineq',\n",
      "             'fun': lambda x: x[46]},\n",
      "            {'type': 'ineq',\n",
      "             'fun': lambda x: x[47]},\n",
      "            {'type': 'ineq',\n",
      "             'fun': lambda x: x[48]},\n",
      "            {'type': 'ineq',\n",
      "             'fun': lambda x: x[49]},\n",
      "            {'type': 'ineq',\n",
      "             'fun': lambda x: x[50]},\n",
      "            {'type': 'ineq',\n",
      "             'fun': lambda x: x[51]})\n",
      "    return funs#[{'type': 'eq', 'fun': f} for f in funs]   \n",
      "\n",
      "## OBJECTIVE FUNCTION\n",
      "def chance_obj_fun(x):\n",
      "    return -x[2]\n",
      "    \n",
      "def obj_fun(x, target, pis, p_vals):\n",
      "    \n",
      "    penalties = x[2:]\n",
      "    total_penalty = []\n",
      "    i = 0#pis.shape(0)\n",
      "    for pi in pis:\n",
      "        total_penalty.append(p_vals[0] * penalties[i+1] \n",
      "                                   - p_vals[1] * penalties[i])\n",
      "        i +=2\n",
      "    print np.sum(pis * total_penalty)\n",
      "   \n",
      "    p_mu = np.mean(total_penalty)\n",
      "    p_var = np.sum(pis * (total_penalty - p_mu)**2)\n",
      "    \n",
      "    print np.sqrt(p_var)\n",
      "    return -target + np.sum(pis * total_penalty) + p_vals[2] * np.sqrt(p_var)\n"
     ],
     "language": "python",
     "metadata": {},
     "outputs": [],
     "prompt_number": 3
    },
    {
     "cell_type": "code",
     "collapsed": false,
     "input": [
      "bmo = Option(\"BMO.TO\", 60, 0.03, 0.5, 4)\n",
      "pfe = Option(\"PFE\", 28, 0.03, 0.5, 4)\n",
      "#84.0/252.0\n",
      "\n",
      "b_tree, b_cs, b_probs, b_prices = bt.ExpectedReturns(bmo)\n",
      "p_tree, p_cs, p_probs, p_prices = bt.ExpectedReturns(pfe)\n",
      "\n",
      "t_cs = np.array([[i,j] for i,j in product(b_cs, p_cs)])\n",
      "pis = np.array([i*j for i,j in product(b_probs, b_probs)])\n",
      "\n",
      "costs = np.array([b_tree[0][0], p_tree[0][0]])\n",
      "scenarios = t_cs.shape[0]\n",
      "# b_cs, p_cs, p_tree[0][0], b_tree"
     ],
     "language": "python",
     "metadata": {},
     "outputs": [],
     "prompt_number": 4
    },
    {
     "cell_type": "code",
     "collapsed": false,
     "input": [
      "#`# OPTIMIZATION EXECUTION\n",
      "\n",
      "num_opts = 2\n",
      "budget = 1000\n",
      "expected_ror = 0.1\n",
      "target = budget * (1 + expected_ror)\n",
      "penalties = np.array([0.01, 0.01, 0.5]) # surp, def, theta\n",
      "beta = scipy.stats.norm.ppf(0.4) # 90% reliability on normal distribution\n",
      "\n",
      "x = np.append(np.zeros(num_opts), np.zeros(2 * scenarios))\n",
      "chance_x = np.zeros(3)\n",
      "# penalty terms * scenarios\n",
      "\n",
      "constraints = cons(t_cs, target, costs, budget, num_opts)\n",
      "chance_constraints = chance_cons(b_cs, p_cs, costs, budget, beta)\n",
      "\n",
      "args = (target, pis, penalties)\n",
      "\n",
      "# opt = optimize.minimize(obj_fun, x, args=args,\n",
      "#                         constraints=constraints,\n",
      "#                         method='SLSQP',\n",
      "#                         options={'disp': True})\n",
      "#opt\n",
      "chance_opt = optimize.minimize(chance_obj_fun, chance_x,\n",
      "                        constraints=chance_constraints,\n",
      "                        method='SLSQP',\n",
      "                        options={'disp': True})\n",
      "chance_opt\n",
      "np.round(chance_opt.x, 0)"
     ],
     "language": "python",
     "metadata": {},
     "outputs": [
      {
       "output_type": "stream",
       "stream": "stdout",
       "text": [
        "Optimization terminated successfully.    (Exit mode 0)\n",
        "            Current function value: -4088.41698313\n",
        "            Iterations: 21\n",
        "            Function evaluations: 110\n",
        "            Gradient evaluations: 20\n"
       ]
      },
      {
       "metadata": {},
       "output_type": "pyout",
       "prompt_number": 32,
       "text": [
        "array([   -0.,  8093.,  4088.])"
       ]
      }
     ],
     "prompt_number": 32
    },
    {
     "cell_type": "code",
     "collapsed": false,
     "input": [
      "np.round(opt.x,0)"
     ],
     "language": "python",
     "metadata": {},
     "outputs": [
      {
       "metadata": {},
       "output_type": "pyout",
       "prompt_number": 198,
       "text": [
        "array([  865.,  1043.,     0.,  5625.,     0.,  3531.,     0.,  3531.,\n",
        "           0.,  3531.,     0.,  3531.,     0.,  2123.,     0.,    29.,\n",
        "           0.,    29.,     0.,    29.,     0.,    29.,     6.,     0.,\n",
        "        2100.,    -0.,  2100.,     0.,  2100.,    -0.,  2100.,     0.,\n",
        "           6.,     0.,  2100.,     0.,  2100.,     0.,  2100.,     0.,\n",
        "        2100.,     0.,     6.,     0.,  2100.,     0.,  2100.,    -0.,\n",
        "        2100.,    -0.,  2100.,     0.])"
       ]
      }
     ],
     "prompt_number": 198
    },
    {
     "cell_type": "code",
     "collapsed": false,
     "input": [
      "np.mean(p_cs)"
     ],
     "language": "python",
     "metadata": {},
     "outputs": [
      {
       "metadata": {},
       "output_type": "pyout",
       "prompt_number": 102,
       "text": [
        "0.27781668346047378"
       ]
      }
     ],
     "prompt_number": 102
    },
    {
     "cell_type": "code",
     "collapsed": false,
     "input": [
      "x * np.cov(b_cs, p_cs) * x[None].T"
     ],
     "language": "python",
     "metadata": {},
     "outputs": [
      {
       "metadata": {},
       "output_type": "pyout",
       "prompt_number": 32,
       "text": [
        "array([[ 3236.39530062,   946.73152038],\n",
        "       [  946.73152038,   322.22121396]])"
       ]
      }
     ],
     "prompt_number": 32
    },
    {
     "cell_type": "code",
     "collapsed": false,
     "input": [
      "x[None].T"
     ],
     "language": "python",
     "metadata": {},
     "outputs": [
      {
       "metadata": {},
       "output_type": "pyout",
       "prompt_number": 33,
       "text": [
        "array([[20],\n",
        "       [20]])"
       ]
      }
     ],
     "prompt_number": 33
    },
    {
     "cell_type": "code",
     "collapsed": false,
     "input": [
      "np.dot(np.dot(x, np.cov(b_cs, p_cs)), x[None].T)"
     ],
     "language": "python",
     "metadata": {},
     "outputs": [
      {
       "metadata": {},
       "output_type": "pyout",
       "prompt_number": 38,
       "text": [
        "array([ 5452.07955534])"
       ]
      }
     ],
     "prompt_number": 38
    },
    {
     "cell_type": "code",
     "collapsed": false,
     "input": [
      "b_cs[:2]"
     ],
     "language": "python",
     "metadata": {},
     "outputs": [
      {
       "metadata": {},
       "output_type": "pyout",
       "prompt_number": 44,
       "text": [
        "[5.5048443166376106, 1.4550185349143674]"
       ]
      }
     ],
     "prompt_number": 44
    },
    {
     "cell_type": "code",
     "collapsed": false,
     "input": [
      "np.array(b_cs) * np.array(p_cs)"
     ],
     "language": "python",
     "metadata": {},
     "outputs": [
      {
       "metadata": {},
       "output_type": "pyout",
       "prompt_number": 106,
       "text": [
        "array([ 10.36760423,  -0.17979544,   0.12448401,   0.12448401,   0.12448401])"
       ]
      }
     ],
     "prompt_number": 106
    },
    {
     "cell_type": "code",
     "collapsed": false,
     "input": [
      "p_cs, b_cs"
     ],
     "language": "python",
     "metadata": {},
     "outputs": [
      {
       "metadata": {},
       "output_type": "pyout",
       "prompt_number": 107,
       "text": [
        "([1.8833601153556847,\n",
        "  -0.12356917451332901,\n",
        "  -0.12356917451332901,\n",
        "  -0.12356917451332901,\n",
        "  -0.12356917451332901],\n",
        " [5.5048443166376106,\n",
        "  1.4550185349143674,\n",
        "  -1.0074033970936314,\n",
        "  -1.0074033970936314,\n",
        "  -1.0074033970936314])"
       ]
      }
     ],
     "prompt_number": 107
    },
    {
     "cell_type": "code",
     "collapsed": false,
     "input": [],
     "language": "python",
     "metadata": {},
     "outputs": []
    }
   ],
   "metadata": {}
  }
 ]
}